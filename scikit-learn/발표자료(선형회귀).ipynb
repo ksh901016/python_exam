{
 "cells": [
  {
   "cell_type": "code",
   "execution_count": 61,
   "metadata": {},
   "outputs": [],
   "source": [
    "## lib import\n",
    "import mglearn\n",
    "import matplotlib.pyplot as plt\n",
    "import numpy as np\n",
    "import pandas as pd\n",
    "from matplotlib import font_manager, rc\n",
    "import matplotlib.pyplot as plt"
   ]
  },
  {
   "cell_type": "code",
   "execution_count": 2,
   "metadata": {},
   "outputs": [
    {
     "data": {
      "text/plain": [
       "[('Malgun Gothic', 'C:\\\\Windows\\\\Fonts\\\\malgunsl.ttf'),\n",
       " ('Malgun Gothic', 'C:\\\\Windows\\\\Fonts\\\\malgunbd.ttf'),\n",
       " ('Malgun Gothic', 'c:\\\\windows\\\\fonts\\\\malgun.ttf')]"
      ]
     },
     "execution_count": 2,
     "metadata": {},
     "output_type": "execute_result"
    }
   ],
   "source": [
    "font_name = font_manager.FontProperties(fname=\"c:/Windows/Fonts/malgun.ttf\").get_name()\n",
    "plt.rc('font', family=font_name)\n",
    "[(f.name, f.fname) for f in font_manager.fontManager.ttflist if 'Malgun' in f.name]"
   ]
  },
  {
   "cell_type": "markdown",
   "metadata": {},
   "source": [
    "## 선형회귀 모델 만들기\n"
   ]
  },
  {
   "cell_type": "code",
   "execution_count": 27,
   "metadata": {},
   "outputs": [
    {
     "name": "stdout",
     "output_type": "stream",
     "text": [
      "X의 shape : (506, 104)\n",
      "y의 shape : (506,)\n"
     ]
    }
   ],
   "source": [
    "from sklearn.linear_model import LinearRegression\n",
    "from sklearn.model_selection import train_test_split\n",
    "## 보스턴 주택가격 데이터셋\n",
    "X, y = mglearn.datasets.load_extended_boston()\n",
    "print(\"X의 shape : {}\".format(X.shape)) ## 샘플이 506개, 특성 104개\n",
    "print(\"y의 shape : {}\".format(y.shape))"
   ]
  },
  {
   "cell_type": "code",
   "execution_count": 28,
   "metadata": {},
   "outputs": [
    {
     "name": "stdout",
     "output_type": "stream",
     "text": [
      "[[0.00000000e+00 1.80000000e-01 6.78152493e-02 ... 1.00000000e+00\n",
      "  8.96799117e-02 8.04248656e-03]\n",
      " [2.35922539e-04 0.00000000e+00 2.42302053e-01 ... 1.00000000e+00\n",
      "  2.04470199e-01 4.18080621e-02]\n",
      " [2.35697744e-04 0.00000000e+00 2.42302053e-01 ... 9.79579831e-01\n",
      "  6.28144504e-02 4.02790570e-03]\n",
      " ...\n",
      " [1.55367187e-03 1.25000000e-01 2.71627566e-01 ... 1.00000000e+00\n",
      "  4.80684327e-01 2.31057422e-01]\n",
      " [2.30325139e-03 1.25000000e-01 2.71627566e-01 ... 9.48877796e-01\n",
      "  7.57994512e-01 6.05510723e-01]\n",
      " [1.84017333e-03 1.25000000e-01 2.71627566e-01 ... 9.49270838e-01\n",
      "  4.13219443e-01 1.79875228e-01]]\n",
      "[24.  21.6 34.7 33.4 36.2]\n"
     ]
    }
   ],
   "source": [
    "print(X[:10])\n",
    "print(y[:5])"
   ]
  },
  {
   "cell_type": "code",
   "execution_count": 29,
   "metadata": {},
   "outputs": [],
   "source": [
    "X_train, X_test, y_train, y_test = train_test_split(X, y, random_state=0)\n",
    "lr = LinearRegression().fit(X_train, y_train)"
   ]
  },
  {
   "cell_type": "code",
   "execution_count": 32,
   "metadata": {},
   "outputs": [
    {
     "name": "stdout",
     "output_type": "stream",
     "text": [
      "lr.coef_(w) : [-4.02752236e+02 -5.00710011e+01 -1.33316908e+02 -1.20021023e+01\n",
      " -1.27106873e+01  2.83052585e+01  5.44920273e+01 -5.17339345e+01\n",
      "  2.52602789e+01  3.64990704e+01 -1.01038605e+01 -1.96288897e+01\n",
      " -2.13677312e+01  1.46473758e+01  2.89505391e+03  1.51026852e+03\n",
      "  1.17995400e+02 -2.65658068e+01  3.12488451e+01 -3.14463610e+01\n",
      "  4.52535825e+01  1.28349557e+03 -2.24600306e+03  2.22198614e+02\n",
      " -4.66264354e-01  4.07661992e+01 -1.34357879e+01 -1.90960479e+01\n",
      " -2.77605103e+00 -8.09710327e+01  9.73141885e+00  5.13324280e+00\n",
      " -7.87928926e-01 -7.60269229e+00  3.36717627e+01 -1.15051345e+01\n",
      "  6.62672250e+01 -1.75632324e+01  4.29826712e+01  1.27662043e+00\n",
      "  6.09633677e-01  5.71868313e+01  1.40823103e+01  5.53404218e+01\n",
      " -3.03481907e+01  1.88121756e+01 -1.37772336e+01  6.09790464e+01\n",
      " -1.25792000e+01 -1.20021023e+01 -1.76980605e+01 -3.40279371e+01\n",
      "  7.15036708e+00 -8.41017086e+00  1.69857259e+01 -1.29412471e+01\n",
      " -1.18060747e+01  5.71334581e+01 -1.75814680e+01  1.69557926e+00\n",
      "  2.72177388e+01 -1.67445867e+01  7.50299805e+01 -3.02717569e+01\n",
      "  4.77801366e+01 -4.05414199e+01  5.50445125e+00  2.15309336e+01\n",
      "  2.53662918e+01 -4.94853071e+01  2.81089236e+01  1.04685421e+01\n",
      " -7.15589798e+01 -2.37402020e+01  9.57368270e+00 -3.78757608e+00\n",
      "  1.21433995e+00 -4.71953075e+00  4.12379498e+01 -3.77021533e+01\n",
      " -2.15605195e+00 -2.62959500e+01 -3.32015181e+01  4.59315483e+01\n",
      " -2.30143466e+01 -1.75145726e+01 -1.40847792e+01 -2.04896476e+01\n",
      "  3.65253034e+01 -9.48974963e+01  1.43233527e+02 -1.56740667e+01\n",
      " -1.49732134e+01 -2.86130369e+01 -3.12520263e+01  2.45648366e+01\n",
      " -1.78047541e+01  4.03508210e+00  1.71067619e+00  3.44735201e+01\n",
      "  1.12185643e+01  1.14301989e+00  3.73717124e+00  3.13846206e+01]\n",
      "lr.intercept_(b): 31.64517410082258\n"
     ]
    }
   ],
   "source": [
    "## 계수, 절편보기\n",
    "print(\"lr.coef_(w) : {}\".format(lr.coef_))\n",
    "print(\"lr.intercept_(b): {}\".format(lr.intercept_))"
   ]
  },
  {
   "cell_type": "code",
   "execution_count": 33,
   "metadata": {},
   "outputs": [
    {
     "name": "stdout",
     "output_type": "stream",
     "text": [
      "훈련 세트 점수: 0.95\n",
      "테스트 세트 점수: 0.61\n"
     ]
    }
   ],
   "source": [
    "## 성능 확인\n",
    "print(\"훈련 세트 점수: {:.2f}\".format(lr.score(X_train, y_train)))\n",
    "print(\"테스트 세트 점수: {:.2f}\".format(lr.score(X_test, y_test)))"
   ]
  },
  {
   "cell_type": "markdown",
   "metadata": {},
   "source": [
    "### 릿지 회귀(Ridge)\n",
    "규제(regularization)을 통해 w 가중치 값의 기울기를 줄인다. (L2 규제사용)"
   ]
  },
  {
   "cell_type": "code",
   "execution_count": 56,
   "metadata": {},
   "outputs": [
    {
     "name": "stdout",
     "output_type": "stream",
     "text": [
      "훈련 세트 점수: 0.89\n",
      "테스트 세트 점수: 0.75\n"
     ]
    }
   ],
   "source": [
    "from sklearn.linear_model import Ridge\n",
    "# 과대적합이 적어지는 것을 볼 수 있음\n",
    "ridge = Ridge().fit(X_train, y_train)\n",
    "print(\"훈련 세트 점수: {:.2f}\".format(ridge.score(X_train, y_train)))\n",
    "print(\"테스트 세트 점수: {:.2f}\".format(ridge.score(X_test, y_test)))"
   ]
  },
  {
   "cell_type": "code",
   "execution_count": 57,
   "metadata": {},
   "outputs": [
    {
     "name": "stdout",
     "output_type": "stream",
     "text": [
      "훈련 세트 점수: 0.95\n",
      "테스트 세트 점수: 0.61\n"
     ]
    }
   ],
   "source": [
    "# 알파값을 0으로 주면, 규제가 사라지므로 단순한 linearRegression과 같은 결과값을 얻는다.\n",
    "ridge0 = Ridge(alpha=0).fit(X_train, y_train)\n",
    "print(\"훈련 세트 점수: {:.2f}\".format(ridge0.score(X_train, y_train)))\n",
    "print(\"테스트 세트 점수: {:.2f}\".format(ridge0.score(X_test, y_test)))"
   ]
  },
  {
   "cell_type": "code",
   "execution_count": 64,
   "metadata": {},
   "outputs": [
    {
     "name": "stdout",
     "output_type": "stream",
     "text": [
      "훈련 세트 점수: 0.79\n",
      "테스트 세트 점수: 0.64\n"
     ]
    }
   ],
   "source": [
    "# 과소적합\n",
    "ridge10 = Ridge(alpha=10).fit(X_train, y_train)\n",
    "print(\"훈련 세트 점수: {:.2f}\".format(ridge10.score(X_train, y_train)))\n",
    "print(\"테스트 세트 점수: {:.2f}\".format(ridge10.score(X_test, y_test)))"
   ]
  },
  {
   "cell_type": "code",
   "execution_count": 65,
   "metadata": {},
   "outputs": [
    {
     "name": "stdout",
     "output_type": "stream",
     "text": [
      "훈련 세트 점수: 0.93\n",
      "테스트 세트 점수: 0.77\n"
     ]
    }
   ],
   "source": [
    "# 적잘한 규제가 필요함\n",
    "ridge01 = Ridge(alpha=0.1).fit(X_train, y_train)\n",
    "print(\"훈련 세트 점수: {:.2f}\".format(ridge01.score(X_train, y_train)))\n",
    "print(\"테스트 세트 점수: {:.2f}\".format(ridge01.score(X_test, y_test)))"
   ]
  },
  {
   "cell_type": "code",
   "execution_count": 66,
   "metadata": {
    "scrolled": true
   },
   "outputs": [
    {
     "data": {
      "image/png": "[encoded data removed]",
      "text/plain": [
       "<Figure size 432x288 with 1 Axes>"
      ]
     },
     "metadata": {
      "needs_background": "light"
     },
     "output_type": "display_data"
    }
   ],
   "source": [
    "## 분석\n",
    "plt.plot(ridge10.coef_, '^', label=\"Ridge alpha=10\")\n",
    "plt.plot(ridge01.coef_, 'v', label=\"Ridge alpha=0.1\")\n",
    "\n",
    "plt.xlabel(\"Coef lists\")\n",
    "plt.ylabel(\"Coef size\")\n",
    "xlims = plt.xlim()\n",
    "plt.hlines(0, xlims[0], xlims[1])\n",
    "plt.xlim(xlims)\n",
    "plt.ylim(-25, 25)\n",
    "plt.legend();"
   ]
  },
  {
   "cell_type": "markdown",
   "metadata": {},
   "source": [
    "### 라쏘(Lasso)\n",
    "L1 규제를 사용하여 규제(regularization)를 한다."
   ]
  },
  {
   "cell_type": "code",
   "execution_count": null,
   "metadata": {},
   "outputs": [],
   "source": []
  }
 ],
 "metadata": {
  "kernelspec": {
   "display_name": "Python 3",
   "language": "python",
   "name": "python3"
  },
  "language_info": {
   "codemirror_mode": {
    "name": "ipython",
    "version": 3
   },
   "file_extension": ".py",
   "mimetype": "text/x-python",
   "name": "python",
   "nbconvert_exporter": "python",
   "pygments_lexer": "ipython3",
   "version": "3.7.0"
  }
 },
 "nbformat": 4,
 "nbformat_minor": 2
}
