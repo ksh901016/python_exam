{
 "cells": [
  {
   "cell_type": "code",
   "execution_count": 1,
   "metadata": {},
   "outputs": [],
   "source": [
    "import mglearn\n",
    "import matplotlib.pyplot as plt\n",
    "from matplotlib import font_manager, rc"
   ]
  },
  {
   "cell_type": "code",
   "execution_count": 2,
   "metadata": {},
   "outputs": [
    {
     "data": {
      "text/plain": [
       "[('Malgun Gothic', 'C:\\\\Windows\\\\Fonts\\\\malgunsl.ttf'),\n",
       " ('Malgun Gothic', 'C:\\\\Windows\\\\Fonts\\\\malgunbd.ttf'),\n",
       " ('Malgun Gothic', 'c:\\\\windows\\\\fonts\\\\malgun.ttf')]"
      ]
     },
     "execution_count": 2,
     "metadata": {},
     "output_type": "execute_result"
    }
   ],
   "source": [
    "font_name = font_manager.FontProperties(fname=\"c:/Windows/Fonts/malgun.ttf\").get_name()\n",
    "plt.rc('font', family=font_name)\n",
    "[(f.name, f.fname) for f in font_manager.fontManager.ttflist if 'Malgun' in f.name]"
   ]
  },
  {
   "cell_type": "code",
   "execution_count": 3,
   "metadata": {},
   "outputs": [],
   "source": [
    "# 우리는 wave 데이터셋을 사용할 것이다.\n",
    "X, y = mglearn.datasets.make_wave(n_samples=20)"
   ]
  },
  {
   "cell_type": "code",
   "execution_count": 4,
   "metadata": {},
   "outputs": [
    {
     "name": "stdout",
     "output_type": "stream",
     "text": [
      "[[-0.75275929]\n",
      " [ 2.70428584]\n",
      " [ 1.39196365]\n",
      " [ 0.59195091]\n",
      " [-2.06388816]\n",
      " [-2.06403288]\n",
      " [-2.65149833]\n",
      " [ 2.19705687]\n",
      " [ 0.60669007]\n",
      " [ 1.24843547]\n",
      " [-2.87649303]\n",
      " [ 2.81945911]\n",
      " [ 1.99465584]\n",
      " [-1.72596534]\n",
      " [-1.9090502 ]\n",
      " [-1.89957294]\n",
      " [-1.17454654]\n",
      " [ 0.14853859]\n",
      " [-0.40832989]\n",
      " [-1.25262516]]\n",
      "[-0.94788767  1.01720489 -0.08596376 -0.06075119 -0.75934374 -1.60501542\n",
      " -0.82945092  0.68336686  0.35889909  0.19933869 -1.5774682   1.11736466\n",
      "  1.19312971 -1.29962216 -1.74356807 -0.5073919  -0.09407231 -0.17468205\n",
      " -0.29191552 -0.75878799]\n"
     ]
    }
   ],
   "source": [
    "print(X);\n",
    "print(y);"
   ]
  },
  {
   "cell_type": "code",
   "execution_count": 5,
   "metadata": {},
   "outputs": [
    {
     "data": {
      "text/plain": [
       "(20,)"
      ]
     },
     "execution_count": 5,
     "metadata": {},
     "output_type": "execute_result"
    }
   ],
   "source": [
    "# y는 열벡터\n",
    "y.shape"
   ]
  },
  {
   "cell_type": "code",
   "execution_count": 6,
   "metadata": {},
   "outputs": [
    {
     "data": {
      "text/plain": [
       "(20, 1)"
      ]
     },
     "execution_count": 6,
     "metadata": {},
     "output_type": "execute_result"
    }
   ],
   "source": [
    "# x는 20x1 매트릭스\n",
    "X.shape"
   ]
  },
  {
   "cell_type": "code",
   "execution_count": 7,
   "metadata": {},
   "outputs": [
    {
     "data": {
      "text/plain": [
       "numpy.ndarray"
      ]
     },
     "execution_count": 7,
     "metadata": {},
     "output_type": "execute_result"
    }
   ],
   "source": [
    "type(X)"
   ]
  },
  {
   "cell_type": "code",
   "execution_count": 8,
   "metadata": {},
   "outputs": [
    {
     "name": "stdout",
     "output_type": "stream",
     "text": [
      "w[0]: 0.393906  b: -0.031804\n"
     ]
    },
    {
     "data": {
      "image/png": "[encoded data removed]",
      "text/plain": [
       "<Figure size 576x576 with 1 Axes>"
      ]
     },
     "metadata": {
      "needs_background": "light"
     },
     "output_type": "display_data"
    }
   ],
   "source": [
    "mglearn.plots.plot_linear_regression_wave()\n",
    "# w[0] 은 대략 0.39  기울기(가중치)값은 4\n",
    "# b(bias)절편은 대략 -0.031"
   ]
  },
  {
   "cell_type": "code",
   "execution_count": 9,
   "metadata": {},
   "outputs": [],
   "source": [
    "## scikit-learn을 이용하여 w와 b를 찾기\n",
    "from sklearn.linear_model import LinearRegression\n",
    "from sklearn.model_selection import train_test_split\n",
    "X, y = mglearn.datasets.make_wave(n_samples=60)\n",
    "X_train, X_test, y_train, y_test = train_test_split(X, y, random_state=42)\n",
    "\n",
    "lr = LinearRegression().fit(X_train, y_train)"
   ]
  },
  {
   "cell_type": "markdown",
   "metadata": {},
   "source": [
    "**기울기 파라미터(w) coef_ 객체에 저장**<br>\n",
    "**파라미터(b) bias 편향 intercept_에 저장**"
   ]
  },
  {
   "cell_type": "code",
   "execution_count": 10,
   "metadata": {},
   "outputs": [
    {
     "name": "stdout",
     "output_type": "stream",
     "text": [
      "coef_ : [0.39390555]\n",
      "intercept_ : -0.031804343026759746\n"
     ]
    }
   ],
   "source": [
    "print(\"coef_ : {}\".format(lr.coef_));\n",
    "print(\"intercept_ : {}\".format(lr.intercept_));"
   ]
  },
  {
   "cell_type": "markdown",
   "metadata": {},
   "source": [
    "coef_는 하나가 나옴(피처가 하나밖에 없기 때문), coef_는 **열 벡터**이기 때문에 [ ]로 나오고, 편향(bias)는 (그래프의 높이) **스칼라값**"
   ]
  },
  {
   "cell_type": "code",
   "execution_count": 11,
   "metadata": {},
   "outputs": [
    {
     "name": "stdout",
     "output_type": "stream",
     "text": [
      "훈련 세트 점수: 0.67\n",
      "테스트 세트 점수: 0.66\n"
     ]
    }
   ],
   "source": [
    "## 성능 확인\n",
    "print(\"훈련 세트 점수: {:.2f}\".format(lr.score(X_train, y_train)))\n",
    "print(\"테스트 세트 점수: {:.2f}\".format(lr.score(X_test, y_test)))"
   ]
  },
  {
   "cell_type": "code",
   "execution_count": 13,
   "metadata": {},
   "outputs": [
    {
     "data": {
      "text/plain": [
       "array([0.39390555])"
      ]
     },
     "execution_count": 13,
     "metadata": {},
     "output_type": "execute_result"
    }
   ],
   "source": [
    "lr.coef_"
   ]
  },
  {
   "cell_type": "markdown",
   "metadata": {},
   "source": [
    "### 보스턴 주택가격 데이터셋 활용(샘플(n) = 506, 특성(k) = 104)"
   ]
  },
  {
   "cell_type": "code",
   "execution_count": 14,
   "metadata": {},
   "outputs": [],
   "source": [
    "X, y = mglearn.datasets.load_extended_boston()\n",
    "X_train, X_test, y_train, y_test = train_test_split(X, y, random_state=0)\n",
    "lr = LinearRegression().fit(X_train, y_train)"
   ]
  },
  {
   "cell_type": "code",
   "execution_count": 15,
   "metadata": {},
   "outputs": [
    {
     "name": "stdout",
     "output_type": "stream",
     "text": [
      "lr.coef_(w) : [-4.02752236e+02 -5.00710011e+01 -1.33316908e+02 -1.20021023e+01\n",
      " -1.27106873e+01  2.83052585e+01  5.44920273e+01 -5.17339345e+01\n",
      "  2.52602789e+01  3.64990704e+01 -1.01038605e+01 -1.96288897e+01\n",
      " -2.13677312e+01  1.46473758e+01  2.89505391e+03  1.51026852e+03\n",
      "  1.17995400e+02 -2.65658068e+01  3.12488451e+01 -3.14463610e+01\n",
      "  4.52535825e+01  1.28349557e+03 -2.24600306e+03  2.22198614e+02\n",
      " -4.66264354e-01  4.07661992e+01 -1.34357879e+01 -1.90960479e+01\n",
      " -2.77605103e+00 -8.09710327e+01  9.73141885e+00  5.13324280e+00\n",
      " -7.87928926e-01 -7.60269229e+00  3.36717627e+01 -1.15051345e+01\n",
      "  6.62672250e+01 -1.75632324e+01  4.29826712e+01  1.27662043e+00\n",
      "  6.09633677e-01  5.71868313e+01  1.40823103e+01  5.53404218e+01\n",
      " -3.03481907e+01  1.88121756e+01 -1.37772336e+01  6.09790464e+01\n",
      " -1.25792000e+01 -1.20021023e+01 -1.76980605e+01 -3.40279371e+01\n",
      "  7.15036708e+00 -8.41017086e+00  1.69857259e+01 -1.29412471e+01\n",
      " -1.18060747e+01  5.71334581e+01 -1.75814680e+01  1.69557926e+00\n",
      "  2.72177388e+01 -1.67445867e+01  7.50299805e+01 -3.02717569e+01\n",
      "  4.77801366e+01 -4.05414199e+01  5.50445125e+00  2.15309336e+01\n",
      "  2.53662918e+01 -4.94853071e+01  2.81089236e+01  1.04685421e+01\n",
      " -7.15589798e+01 -2.37402020e+01  9.57368270e+00 -3.78757608e+00\n",
      "  1.21433995e+00 -4.71953075e+00  4.12379498e+01 -3.77021533e+01\n",
      " -2.15605195e+00 -2.62959500e+01 -3.32015181e+01  4.59315483e+01\n",
      " -2.30143466e+01 -1.75145726e+01 -1.40847792e+01 -2.04896476e+01\n",
      "  3.65253034e+01 -9.48974963e+01  1.43233527e+02 -1.56740667e+01\n",
      " -1.49732134e+01 -2.86130369e+01 -3.12520263e+01  2.45648366e+01\n",
      " -1.78047541e+01  4.03508210e+00  1.71067619e+00  3.44735201e+01\n",
      "  1.12185643e+01  1.14301989e+00  3.73717124e+00  3.13846206e+01]\n",
      "lr.intercept_(b): 31.64517410082258\n",
      "훈련 세트 점수: 0.95\n",
      "테스트 세트 점수: 0.61\n",
      "특성 갯수 : (506, 104)\n",
      "가중치 갯수 : (104,)\n"
     ]
    }
   ],
   "source": [
    "## 계수, 절편 보기\n",
    "print(\"lr.coef_(w) : {}\".format(lr.coef_))\n",
    "print(\"lr.intercept_(b): {}\".format(lr.intercept_))\n",
    "## 성능 확인\n",
    "print(\"훈련 세트 점수: {:.2f}\".format(lr.score(X_train, y_train)))\n",
    "print(\"테스트 세트 점수: {:.2f}\".format(lr.score(X_test, y_test)))\n",
    "## 계수 갯수\n",
    "print(\"특성 갯수 : {}\".format(X.shape))\n",
    "print(\"가중치 갯수 : {}\".format(lr.coef_.shape))"
   ]
  },
  {
   "cell_type": "markdown",
   "metadata": {},
   "source": [
    "### 릿지 회귀(Ridge)\n",
    "제약조건을 추가하여, 과대적합되지 않게함"
   ]
  },
  {
   "cell_type": "code",
   "execution_count": 24,
   "metadata": {},
   "outputs": [
    {
     "name": "stdout",
     "output_type": "stream",
     "text": [
      "훈련 세트 점수: 0.89\n",
      "테스트 세트 점수: 0.75\n"
     ]
    }
   ],
   "source": [
    "from sklearn.linear_model import Ridge\n",
    "ridge = Ridge().fit(X_train, y_train)\n",
    "print(\"훈련 세트 점수: {:.2f}\".format(ridge.score(X_train, y_train)))\n",
    "print(\"테스트 세트 점수: {:.2f}\".format(ridge.score(X_test, y_test)))"
   ]
  },
  {
   "cell_type": "code",
   "execution_count": 25,
   "metadata": {},
   "outputs": [
    {
     "name": "stdout",
     "output_type": "stream",
     "text": [
      "훈련 세트 점수: 0.95\n",
      "테스트 세트 점수: 0.61\n"
     ]
    }
   ],
   "source": [
    "# alpha가 0이면, 규제가 없으므로, 모델복잡도는 높아지고 일반화되지 않음(Linear Regression과 같음)\n",
    "ridge0 = Ridge(alpha=0).fit(X_train, y_train)\n",
    "print(\"훈련 세트 점수: {:.2f}\".format(ridge0.score(X_train, y_train)))\n",
    "print(\"테스트 세트 점수: {:.2f}\".format(ridge0.score(X_test, y_test)))"
   ]
  },
  {
   "cell_type": "code",
   "execution_count": null,
   "metadata": {},
   "outputs": [],
   "source": []
  }
 ],
 "metadata": {
  "kernelspec": {
   "display_name": "Python 3",
   "language": "python",
   "name": "python3"
  },
  "language_info": {
   "codemirror_mode": {
    "name": "ipython",
    "version": 3
   },
   "file_extension": ".py",
   "mimetype": "text/x-python",
   "name": "python",
   "nbconvert_exporter": "python",
   "pygments_lexer": "ipython3",
   "version": "3.7.0"
  }
 },
 "nbformat": 4,
 "nbformat_minor": 2
}
